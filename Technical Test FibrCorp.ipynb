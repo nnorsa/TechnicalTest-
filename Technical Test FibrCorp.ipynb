{
 "cells": [
  {
   "cell_type": "markdown",
   "id": "6a24f9c2",
   "metadata": {},
   "source": [
    "# Data Preparation"
   ]
  },
  {
   "cell_type": "markdown",
   "id": "04c2adb2",
   "metadata": {},
   "source": [
    "Data preparation is the process of preparing data before modeling or analysis. This stage includes importing libraries, reading the dataset, displaying basic dataset information, cleaning the data by removing unnecessary columns, checking for missing values, and deleting duplicate data. These steps ensure that the data is in the proper format and ready for use."
   ]
  },
  {
   "cell_type": "code",
   "execution_count": 653,
   "id": "ed045b0e",
   "metadata": {},
   "outputs": [],
   "source": [
    "#import library that required\n",
    "import pandas as pd\n",
    "from catboost import CatBoostRegressor\n",
    "from sklearn.model_selection import train_test_split\n",
    "from sklearn.metrics import mean_absolute_error, mean_squared_error, r2_score"
   ]
  },
  {
   "cell_type": "code",
   "execution_count": 654,
   "id": "8bf9428d",
   "metadata": {},
   "outputs": [],
   "source": [
    "#change the value display format in the variable 'price_IDR'\n",
    "pd.options.display.float_format = '{:,.2f}'.format"
   ]
  },
  {
   "cell_type": "code",
   "execution_count": 655,
   "id": "e377736e",
   "metadata": {},
   "outputs": [
    {
     "data": {
      "text/html": [
       "<div>\n",
       "<style scoped>\n",
       "    .dataframe tbody tr th:only-of-type {\n",
       "        vertical-align: middle;\n",
       "    }\n",
       "\n",
       "    .dataframe tbody tr th {\n",
       "        vertical-align: top;\n",
       "    }\n",
       "\n",
       "    .dataframe thead th {\n",
       "        text-align: right;\n",
       "    }\n",
       "</style>\n",
       "<table border=\"1\" class=\"dataframe\">\n",
       "  <thead>\n",
       "    <tr style=\"text-align: right;\">\n",
       "      <th></th>\n",
       "      <th>Unnamed: 0</th>\n",
       "      <th>Company</th>\n",
       "      <th>TypeName</th>\n",
       "      <th>Inches</th>\n",
       "      <th>ScreenResolution</th>\n",
       "      <th>Cpu</th>\n",
       "      <th>Ram</th>\n",
       "      <th>Memory</th>\n",
       "      <th>Gpu</th>\n",
       "      <th>OpSys</th>\n",
       "      <th>Weight</th>\n",
       "      <th>Price_IDR</th>\n",
       "    </tr>\n",
       "  </thead>\n",
       "  <tbody>\n",
       "    <tr>\n",
       "      <th>0</th>\n",
       "      <td>0</td>\n",
       "      <td>Apple</td>\n",
       "      <td>Ultrabook</td>\n",
       "      <td>13.30</td>\n",
       "      <td>IPS Panel Retina Display 2560x1600</td>\n",
       "      <td>Intel Core i5 2.3GHz</td>\n",
       "      <td>8GB</td>\n",
       "      <td>128GB SSD</td>\n",
       "      <td>Intel Iris Plus Graphics 640</td>\n",
       "      <td>macOS</td>\n",
       "      <td>1.37kg</td>\n",
       "      <td>13,883,153.88</td>\n",
       "    </tr>\n",
       "    <tr>\n",
       "      <th>1</th>\n",
       "      <td>1</td>\n",
       "      <td>Apple</td>\n",
       "      <td>Ultrabook</td>\n",
       "      <td>13.30</td>\n",
       "      <td>1440x900</td>\n",
       "      <td>Intel Core i5 1.8GHz</td>\n",
       "      <td>8GB</td>\n",
       "      <td>128GB Flash Storage</td>\n",
       "      <td>Intel HD Graphics 6000</td>\n",
       "      <td>macOS</td>\n",
       "      <td>1.34kg</td>\n",
       "      <td>9,315,679.26</td>\n",
       "    </tr>\n",
       "    <tr>\n",
       "      <th>2</th>\n",
       "      <td>2</td>\n",
       "      <td>HP</td>\n",
       "      <td>Notebook</td>\n",
       "      <td>15.60</td>\n",
       "      <td>Full HD 1920x1080</td>\n",
       "      <td>Intel Core i5 7200U 2.5GHz</td>\n",
       "      <td>8GB</td>\n",
       "      <td>256GB SSD</td>\n",
       "      <td>Intel HD Graphics 620</td>\n",
       "      <td>No OS</td>\n",
       "      <td>1.86kg</td>\n",
       "      <td>5,958,702.00</td>\n",
       "    </tr>\n",
       "    <tr>\n",
       "      <th>3</th>\n",
       "      <td>3</td>\n",
       "      <td>Apple</td>\n",
       "      <td>Ultrabook</td>\n",
       "      <td>15.40</td>\n",
       "      <td>IPS Panel Retina Display 2880x1800</td>\n",
       "      <td>Intel Core i7 2.7GHz</td>\n",
       "      <td>16GB</td>\n",
       "      <td>512GB SSD</td>\n",
       "      <td>AMD Radeon Pro 455</td>\n",
       "      <td>macOS</td>\n",
       "      <td>1.83kg</td>\n",
       "      <td>26,295,492.85</td>\n",
       "    </tr>\n",
       "    <tr>\n",
       "      <th>4</th>\n",
       "      <td>4</td>\n",
       "      <td>Apple</td>\n",
       "      <td>Ultrabook</td>\n",
       "      <td>13.30</td>\n",
       "      <td>IPS Panel Retina Display 2560x1600</td>\n",
       "      <td>Intel Core i5 3.1GHz</td>\n",
       "      <td>8GB</td>\n",
       "      <td>256GB SSD</td>\n",
       "      <td>Intel Iris Plus Graphics 650</td>\n",
       "      <td>macOS</td>\n",
       "      <td>1.37kg</td>\n",
       "      <td>18,690,634.66</td>\n",
       "    </tr>\n",
       "    <tr>\n",
       "      <th>...</th>\n",
       "      <td>...</td>\n",
       "      <td>...</td>\n",
       "      <td>...</td>\n",
       "      <td>...</td>\n",
       "      <td>...</td>\n",
       "      <td>...</td>\n",
       "      <td>...</td>\n",
       "      <td>...</td>\n",
       "      <td>...</td>\n",
       "      <td>...</td>\n",
       "      <td>...</td>\n",
       "      <td>...</td>\n",
       "    </tr>\n",
       "    <tr>\n",
       "      <th>1298</th>\n",
       "      <td>1298</td>\n",
       "      <td>Lenovo</td>\n",
       "      <td>2 in 1 Convertible</td>\n",
       "      <td>14.00</td>\n",
       "      <td>IPS Panel Full HD / Touchscreen 1920x1080</td>\n",
       "      <td>Intel Core i7 6500U 2.5GHz</td>\n",
       "      <td>4GB</td>\n",
       "      <td>128GB SSD</td>\n",
       "      <td>Intel HD Graphics 520</td>\n",
       "      <td>Windows 10</td>\n",
       "      <td>1.8kg</td>\n",
       "      <td>6,611,568.48</td>\n",
       "    </tr>\n",
       "    <tr>\n",
       "      <th>1299</th>\n",
       "      <td>1299</td>\n",
       "      <td>Lenovo</td>\n",
       "      <td>2 in 1 Convertible</td>\n",
       "      <td>13.30</td>\n",
       "      <td>IPS Panel Quad HD+ / Touchscreen 3200x1800</td>\n",
       "      <td>Intel Core i7 6500U 2.5GHz</td>\n",
       "      <td>16GB</td>\n",
       "      <td>512GB SSD</td>\n",
       "      <td>Intel HD Graphics 520</td>\n",
       "      <td>Windows 10</td>\n",
       "      <td>1.3kg</td>\n",
       "      <td>15,534,077.04</td>\n",
       "    </tr>\n",
       "    <tr>\n",
       "      <th>1300</th>\n",
       "      <td>1300</td>\n",
       "      <td>Lenovo</td>\n",
       "      <td>Notebook</td>\n",
       "      <td>14.00</td>\n",
       "      <td>1366x768</td>\n",
       "      <td>Intel Celeron Dual Core N3050 1.6GHz</td>\n",
       "      <td>2GB</td>\n",
       "      <td>64GB Flash Storage</td>\n",
       "      <td>Intel HD Graphics</td>\n",
       "      <td>Windows 10</td>\n",
       "      <td>1.5kg</td>\n",
       "      <td>2,373,117.84</td>\n",
       "    </tr>\n",
       "    <tr>\n",
       "      <th>1301</th>\n",
       "      <td>1301</td>\n",
       "      <td>HP</td>\n",
       "      <td>Notebook</td>\n",
       "      <td>15.60</td>\n",
       "      <td>1366x768</td>\n",
       "      <td>Intel Core i7 6500U 2.5GHz</td>\n",
       "      <td>6GB</td>\n",
       "      <td>1TB HDD</td>\n",
       "      <td>AMD Radeon R5 M330</td>\n",
       "      <td>Windows 10</td>\n",
       "      <td>2.19kg</td>\n",
       "      <td>7,917,301.44</td>\n",
       "    </tr>\n",
       "    <tr>\n",
       "      <th>1302</th>\n",
       "      <td>1302</td>\n",
       "      <td>Asus</td>\n",
       "      <td>Notebook</td>\n",
       "      <td>15.60</td>\n",
       "      <td>1366x768</td>\n",
       "      <td>Intel Celeron Dual Core N3050 1.6GHz</td>\n",
       "      <td>4GB</td>\n",
       "      <td>500GB HDD</td>\n",
       "      <td>Intel HD Graphics</td>\n",
       "      <td>Windows 10</td>\n",
       "      <td>2.2kg</td>\n",
       "      <td>3,823,932.24</td>\n",
       "    </tr>\n",
       "  </tbody>\n",
       "</table>\n",
       "<p>1303 rows × 12 columns</p>\n",
       "</div>"
      ],
      "text/plain": [
       "      Unnamed: 0 Company            TypeName  Inches  \\\n",
       "0              0   Apple           Ultrabook   13.30   \n",
       "1              1   Apple           Ultrabook   13.30   \n",
       "2              2      HP            Notebook   15.60   \n",
       "3              3   Apple           Ultrabook   15.40   \n",
       "4              4   Apple           Ultrabook   13.30   \n",
       "...          ...     ...                 ...     ...   \n",
       "1298        1298  Lenovo  2 in 1 Convertible   14.00   \n",
       "1299        1299  Lenovo  2 in 1 Convertible   13.30   \n",
       "1300        1300  Lenovo            Notebook   14.00   \n",
       "1301        1301      HP            Notebook   15.60   \n",
       "1302        1302    Asus            Notebook   15.60   \n",
       "\n",
       "                                ScreenResolution  \\\n",
       "0             IPS Panel Retina Display 2560x1600   \n",
       "1                                       1440x900   \n",
       "2                              Full HD 1920x1080   \n",
       "3             IPS Panel Retina Display 2880x1800   \n",
       "4             IPS Panel Retina Display 2560x1600   \n",
       "...                                          ...   \n",
       "1298   IPS Panel Full HD / Touchscreen 1920x1080   \n",
       "1299  IPS Panel Quad HD+ / Touchscreen 3200x1800   \n",
       "1300                                    1366x768   \n",
       "1301                                    1366x768   \n",
       "1302                                    1366x768   \n",
       "\n",
       "                                       Cpu   Ram               Memory  \\\n",
       "0                     Intel Core i5 2.3GHz   8GB            128GB SSD   \n",
       "1                     Intel Core i5 1.8GHz   8GB  128GB Flash Storage   \n",
       "2               Intel Core i5 7200U 2.5GHz   8GB            256GB SSD   \n",
       "3                     Intel Core i7 2.7GHz  16GB            512GB SSD   \n",
       "4                     Intel Core i5 3.1GHz   8GB            256GB SSD   \n",
       "...                                    ...   ...                  ...   \n",
       "1298            Intel Core i7 6500U 2.5GHz   4GB            128GB SSD   \n",
       "1299            Intel Core i7 6500U 2.5GHz  16GB            512GB SSD   \n",
       "1300  Intel Celeron Dual Core N3050 1.6GHz   2GB   64GB Flash Storage   \n",
       "1301            Intel Core i7 6500U 2.5GHz   6GB              1TB HDD   \n",
       "1302  Intel Celeron Dual Core N3050 1.6GHz   4GB            500GB HDD   \n",
       "\n",
       "                               Gpu       OpSys  Weight     Price_IDR  \n",
       "0     Intel Iris Plus Graphics 640       macOS  1.37kg 13,883,153.88  \n",
       "1           Intel HD Graphics 6000       macOS  1.34kg  9,315,679.26  \n",
       "2            Intel HD Graphics 620       No OS  1.86kg  5,958,702.00  \n",
       "3               AMD Radeon Pro 455       macOS  1.83kg 26,295,492.85  \n",
       "4     Intel Iris Plus Graphics 650       macOS  1.37kg 18,690,634.66  \n",
       "...                            ...         ...     ...           ...  \n",
       "1298         Intel HD Graphics 520  Windows 10   1.8kg  6,611,568.48  \n",
       "1299         Intel HD Graphics 520  Windows 10   1.3kg 15,534,077.04  \n",
       "1300             Intel HD Graphics  Windows 10   1.5kg  2,373,117.84  \n",
       "1301            AMD Radeon R5 M330  Windows 10  2.19kg  7,917,301.44  \n",
       "1302             Intel HD Graphics  Windows 10   2.2kg  3,823,932.24  \n",
       "\n",
       "[1303 rows x 12 columns]"
      ]
     },
     "execution_count": 655,
     "metadata": {},
     "output_type": "execute_result"
    }
   ],
   "source": [
    "#read dataset with excel format\n",
    "df = pd.read_excel('laptop_price.xlsx')\n",
    "df"
   ]
  },
  {
   "cell_type": "code",
   "execution_count": 656,
   "id": "0beb7157",
   "metadata": {},
   "outputs": [
    {
     "name": "stdout",
     "output_type": "stream",
     "text": [
      "<class 'pandas.core.frame.DataFrame'>\n",
      "RangeIndex: 1303 entries, 0 to 1302\n",
      "Data columns (total 12 columns):\n",
      " #   Column            Non-Null Count  Dtype  \n",
      "---  ------            --------------  -----  \n",
      " 0   Unnamed: 0        1303 non-null   int64  \n",
      " 1   Company           1303 non-null   object \n",
      " 2   TypeName          1303 non-null   object \n",
      " 3   Inches            1303 non-null   float64\n",
      " 4   ScreenResolution  1303 non-null   object \n",
      " 5   Cpu               1303 non-null   object \n",
      " 6   Ram               1303 non-null   object \n",
      " 7   Memory            1303 non-null   object \n",
      " 8   Gpu               1303 non-null   object \n",
      " 9   OpSys             1303 non-null   object \n",
      " 10  Weight            1303 non-null   object \n",
      " 11  Price_IDR         1303 non-null   float64\n",
      "dtypes: float64(2), int64(1), object(9)\n",
      "memory usage: 122.3+ KB\n"
     ]
    }
   ],
   "source": [
    "#display the dataset info\n",
    "df.info()"
   ]
  },
  {
   "cell_type": "code",
   "execution_count": 657,
   "id": "6ab48f3f",
   "metadata": {},
   "outputs": [],
   "source": [
    "#drop columns that no needed\n",
    "df = df.drop(columns=['Unnamed: 0'])"
   ]
  },
  {
   "cell_type": "code",
   "execution_count": 658,
   "id": "65aaae0c",
   "metadata": {},
   "outputs": [
    {
     "data": {
      "text/plain": [
       "Company             0\n",
       "TypeName            0\n",
       "Inches              0\n",
       "ScreenResolution    0\n",
       "Cpu                 0\n",
       "Ram                 0\n",
       "Memory              0\n",
       "Gpu                 0\n",
       "OpSys               0\n",
       "Weight              0\n",
       "Price_IDR           0\n",
       "dtype: int64"
      ]
     },
     "execution_count": 658,
     "metadata": {},
     "output_type": "execute_result"
    }
   ],
   "source": [
    "#check missing values of dataset\n",
    "df.isna().sum()"
   ]
  },
  {
   "cell_type": "code",
   "execution_count": 659,
   "id": "907273f0",
   "metadata": {},
   "outputs": [],
   "source": [
    "#drop duplicates data\n",
    "df.drop_duplicates(inplace=True)"
   ]
  },
  {
   "cell_type": "markdown",
   "id": "9f7ae1cb",
   "metadata": {},
   "source": [
    "Displaying information about the data after removing duplicates. Initially, the dataset contained 1303 entries, and after the duplicate removal process, it now has 1274 entries."
   ]
  },
  {
   "cell_type": "code",
   "execution_count": 660,
   "id": "3aa36427",
   "metadata": {},
   "outputs": [
    {
     "name": "stdout",
     "output_type": "stream",
     "text": [
      "<class 'pandas.core.frame.DataFrame'>\n",
      "Int64Index: 1274 entries, 0 to 1273\n",
      "Data columns (total 11 columns):\n",
      " #   Column            Non-Null Count  Dtype  \n",
      "---  ------            --------------  -----  \n",
      " 0   Company           1274 non-null   object \n",
      " 1   TypeName          1274 non-null   object \n",
      " 2   Inches            1274 non-null   float64\n",
      " 3   ScreenResolution  1274 non-null   object \n",
      " 4   Cpu               1274 non-null   object \n",
      " 5   Ram               1274 non-null   object \n",
      " 6   Memory            1274 non-null   object \n",
      " 7   Gpu               1274 non-null   object \n",
      " 8   OpSys             1274 non-null   object \n",
      " 9   Weight            1274 non-null   object \n",
      " 10  Price_IDR         1274 non-null   float64\n",
      "dtypes: float64(2), object(9)\n",
      "memory usage: 119.4+ KB\n"
     ]
    }
   ],
   "source": [
    "df.info()"
   ]
  },
  {
   "cell_type": "markdown",
   "id": "48d36d61",
   "metadata": {},
   "source": [
    "# Preprocessing"
   ]
  },
  {
   "cell_type": "markdown",
   "id": "e3d55076",
   "metadata": {},
   "source": [
    "During the preprocessing stage, I converted certain variables (RAM and Memory) from string data types to numeric and performed encoding using One-Hot Encoding. This method was chosen because it is safer and widely used. One-Hot Encoding creates separate variables for each category, which helps avoid issues related to ordering and makes the data easier for the model to interpret."
   ]
  },
  {
   "cell_type": "code",
   "execution_count": 661,
   "id": "a0daacd8",
   "metadata": {},
   "outputs": [],
   "source": [
    "#convert RAM variable from string to numeric\n",
    "df['Ram'] = df['Ram'].str.replace('GB', '').astype(int)"
   ]
  },
  {
   "cell_type": "code",
   "execution_count": 662,
   "id": "1c2a8013",
   "metadata": {},
   "outputs": [
    {
     "data": {
      "text/plain": [
       "array([ 8, 16,  4,  2, 12,  6, 32, 24, 64])"
      ]
     },
     "execution_count": 662,
     "metadata": {},
     "output_type": "execute_result"
    }
   ],
   "source": [
    "#display data from RAM variables that have been converted to numeric\n",
    "df['Ram'].unique()"
   ]
  },
  {
   "cell_type": "code",
   "execution_count": 663,
   "id": "e766f570",
   "metadata": {},
   "outputs": [
    {
     "name": "stdout",
     "output_type": "stream",
     "text": [
      "                   Memory  Memory_GB\n",
      "0               128GB SSD     128.00\n",
      "1     128GB Flash Storage     128.00\n",
      "2               256GB SSD     256.00\n",
      "3               512GB SSD     512.00\n",
      "4               256GB SSD     256.00\n",
      "...                   ...        ...\n",
      "1269            500GB HDD     500.00\n",
      "1270            128GB SSD     128.00\n",
      "1271            512GB SSD     512.00\n",
      "1272   64GB Flash Storage      64.00\n",
      "1273              1TB HDD   1,024.00\n",
      "\n",
      "[1274 rows x 2 columns]\n"
     ]
    }
   ],
   "source": [
    "#convert Memory variable from string to numeric\n",
    "def convert_to_gb(memory):\n",
    "    #if it contains '+', take each part and convert it\n",
    "    if '+' in memory:\n",
    "        parts = memory.split(' + ')\n",
    "        total_gb = sum(convert_to_gb(part) for part in parts)\n",
    "        return total_gb\n",
    "\n",
    "    #specifies the value and units of the string\n",
    "    memory = memory.upper()\n",
    "    if 'TB' in memory:\n",
    "        return float(memory.split('TB')[0].replace(' ', '').replace('1.0', '1')) * 1024\n",
    "    elif 'GB' in memory:\n",
    "        return float(memory.split('GB')[0].replace(' ', ''))\n",
    "    elif 'MB' in memory:\n",
    "        return float(memory.split('MB')[0].replace(' ', '')) / 1024\n",
    "    elif 'KB' in memory:\n",
    "        return float(memory.split('KB')[0].replace(' ', '')) / (1024 * 1024)\n",
    "    else:\n",
    "        return 0  # Untuk kasus format yang tidak diketahui\n",
    "\n",
    "#apply the conversion function to the 'Memory' column of the existing dataframe\n",
    "df['Memory_GB'] = df['Memory'].apply(convert_to_gb)\n",
    "\n",
    "#displays data from the Memory variable that has not been and has been converted to numeric\n",
    "print(df[['Memory', 'Memory_GB']])"
   ]
  },
  {
   "cell_type": "code",
   "execution_count": 664,
   "id": "c8d84b1b",
   "metadata": {},
   "outputs": [
    {
     "data": {
      "text/plain": [
       "array([ 128.,  256.,  512.,  500., 1024.,   32., 1152.,   64., 1280.,\n",
       "       2304., 2048., 1536.,  756., 2176.,   16.,  768., 2560., 1088.,\n",
       "        180.,  240.,    8.,  508.])"
      ]
     },
     "execution_count": 664,
     "metadata": {},
     "output_type": "execute_result"
    }
   ],
   "source": [
    "#display data from Memory variables that have been converted to numeric\n",
    "df['Memory_GB'].unique()"
   ]
  },
  {
   "cell_type": "markdown",
   "id": "a491e553",
   "metadata": {},
   "source": [
    "**Encoding Process** -- Performing encoding by removing two unnecessary variables, such as the Memory and Weight variables."
   ]
  },
  {
   "cell_type": "code",
   "execution_count": 665,
   "id": "5a1cb475",
   "metadata": {},
   "outputs": [
    {
     "data": {
      "text/html": [
       "<div>\n",
       "<style scoped>\n",
       "    .dataframe tbody tr th:only-of-type {\n",
       "        vertical-align: middle;\n",
       "    }\n",
       "\n",
       "    .dataframe tbody tr th {\n",
       "        vertical-align: top;\n",
       "    }\n",
       "\n",
       "    .dataframe thead th {\n",
       "        text-align: right;\n",
       "    }\n",
       "</style>\n",
       "<table border=\"1\" class=\"dataframe\">\n",
       "  <thead>\n",
       "    <tr style=\"text-align: right;\">\n",
       "      <th></th>\n",
       "      <th>Inches</th>\n",
       "      <th>Ram</th>\n",
       "      <th>Price_IDR</th>\n",
       "      <th>Memory_GB</th>\n",
       "      <th>Company_Apple</th>\n",
       "      <th>Company_Asus</th>\n",
       "      <th>Company_Chuwi</th>\n",
       "      <th>Company_Dell</th>\n",
       "      <th>Company_Fujitsu</th>\n",
       "      <th>Company_Google</th>\n",
       "      <th>...</th>\n",
       "      <th>Gpu_Nvidia Quadro M620</th>\n",
       "      <th>Gpu_Nvidia Quadro M620M</th>\n",
       "      <th>OpSys_Chrome OS</th>\n",
       "      <th>OpSys_Linux</th>\n",
       "      <th>OpSys_Mac OS X</th>\n",
       "      <th>OpSys_No OS</th>\n",
       "      <th>OpSys_Windows 10</th>\n",
       "      <th>OpSys_Windows 10 S</th>\n",
       "      <th>OpSys_Windows 7</th>\n",
       "      <th>OpSys_macOS</th>\n",
       "    </tr>\n",
       "  </thead>\n",
       "  <tbody>\n",
       "    <tr>\n",
       "      <th>0</th>\n",
       "      <td>13.30</td>\n",
       "      <td>8</td>\n",
       "      <td>13,883,153.88</td>\n",
       "      <td>128.00</td>\n",
       "      <td>1</td>\n",
       "      <td>0</td>\n",
       "      <td>0</td>\n",
       "      <td>0</td>\n",
       "      <td>0</td>\n",
       "      <td>0</td>\n",
       "      <td>...</td>\n",
       "      <td>0</td>\n",
       "      <td>0</td>\n",
       "      <td>0</td>\n",
       "      <td>0</td>\n",
       "      <td>0</td>\n",
       "      <td>0</td>\n",
       "      <td>0</td>\n",
       "      <td>0</td>\n",
       "      <td>0</td>\n",
       "      <td>1</td>\n",
       "    </tr>\n",
       "    <tr>\n",
       "      <th>1</th>\n",
       "      <td>13.30</td>\n",
       "      <td>8</td>\n",
       "      <td>9,315,679.26</td>\n",
       "      <td>128.00</td>\n",
       "      <td>1</td>\n",
       "      <td>0</td>\n",
       "      <td>0</td>\n",
       "      <td>0</td>\n",
       "      <td>0</td>\n",
       "      <td>0</td>\n",
       "      <td>...</td>\n",
       "      <td>0</td>\n",
       "      <td>0</td>\n",
       "      <td>0</td>\n",
       "      <td>0</td>\n",
       "      <td>0</td>\n",
       "      <td>0</td>\n",
       "      <td>0</td>\n",
       "      <td>0</td>\n",
       "      <td>0</td>\n",
       "      <td>1</td>\n",
       "    </tr>\n",
       "    <tr>\n",
       "      <th>2</th>\n",
       "      <td>15.60</td>\n",
       "      <td>8</td>\n",
       "      <td>5,958,702.00</td>\n",
       "      <td>256.00</td>\n",
       "      <td>0</td>\n",
       "      <td>0</td>\n",
       "      <td>0</td>\n",
       "      <td>0</td>\n",
       "      <td>0</td>\n",
       "      <td>0</td>\n",
       "      <td>...</td>\n",
       "      <td>0</td>\n",
       "      <td>0</td>\n",
       "      <td>0</td>\n",
       "      <td>0</td>\n",
       "      <td>0</td>\n",
       "      <td>1</td>\n",
       "      <td>0</td>\n",
       "      <td>0</td>\n",
       "      <td>0</td>\n",
       "      <td>0</td>\n",
       "    </tr>\n",
       "    <tr>\n",
       "      <th>3</th>\n",
       "      <td>15.40</td>\n",
       "      <td>16</td>\n",
       "      <td>26,295,492.85</td>\n",
       "      <td>512.00</td>\n",
       "      <td>1</td>\n",
       "      <td>0</td>\n",
       "      <td>0</td>\n",
       "      <td>0</td>\n",
       "      <td>0</td>\n",
       "      <td>0</td>\n",
       "      <td>...</td>\n",
       "      <td>0</td>\n",
       "      <td>0</td>\n",
       "      <td>0</td>\n",
       "      <td>0</td>\n",
       "      <td>0</td>\n",
       "      <td>0</td>\n",
       "      <td>0</td>\n",
       "      <td>0</td>\n",
       "      <td>0</td>\n",
       "      <td>1</td>\n",
       "    </tr>\n",
       "    <tr>\n",
       "      <th>4</th>\n",
       "      <td>13.30</td>\n",
       "      <td>8</td>\n",
       "      <td>18,690,634.66</td>\n",
       "      <td>256.00</td>\n",
       "      <td>1</td>\n",
       "      <td>0</td>\n",
       "      <td>0</td>\n",
       "      <td>0</td>\n",
       "      <td>0</td>\n",
       "      <td>0</td>\n",
       "      <td>...</td>\n",
       "      <td>0</td>\n",
       "      <td>0</td>\n",
       "      <td>0</td>\n",
       "      <td>0</td>\n",
       "      <td>0</td>\n",
       "      <td>0</td>\n",
       "      <td>0</td>\n",
       "      <td>0</td>\n",
       "      <td>0</td>\n",
       "      <td>1</td>\n",
       "    </tr>\n",
       "  </tbody>\n",
       "</table>\n",
       "<p>5 rows × 300 columns</p>\n",
       "</div>"
      ],
      "text/plain": [
       "   Inches  Ram     Price_IDR  Memory_GB  Company_Apple  Company_Asus  \\\n",
       "0   13.30    8 13,883,153.88     128.00              1             0   \n",
       "1   13.30    8  9,315,679.26     128.00              1             0   \n",
       "2   15.60    8  5,958,702.00     256.00              0             0   \n",
       "3   15.40   16 26,295,492.85     512.00              1             0   \n",
       "4   13.30    8 18,690,634.66     256.00              1             0   \n",
       "\n",
       "   Company_Chuwi  Company_Dell  Company_Fujitsu  Company_Google  ...  \\\n",
       "0              0             0                0               0  ...   \n",
       "1              0             0                0               0  ...   \n",
       "2              0             0                0               0  ...   \n",
       "3              0             0                0               0  ...   \n",
       "4              0             0                0               0  ...   \n",
       "\n",
       "   Gpu_Nvidia Quadro M620  Gpu_Nvidia Quadro M620M  OpSys_Chrome OS  \\\n",
       "0                       0                        0                0   \n",
       "1                       0                        0                0   \n",
       "2                       0                        0                0   \n",
       "3                       0                        0                0   \n",
       "4                       0                        0                0   \n",
       "\n",
       "   OpSys_Linux  OpSys_Mac OS X  OpSys_No OS  OpSys_Windows 10  \\\n",
       "0            0               0            0                 0   \n",
       "1            0               0            0                 0   \n",
       "2            0               0            1                 0   \n",
       "3            0               0            0                 0   \n",
       "4            0               0            0                 0   \n",
       "\n",
       "   OpSys_Windows 10 S  OpSys_Windows 7  OpSys_macOS  \n",
       "0                   0                0            1  \n",
       "1                   0                0            1  \n",
       "2                   0                0            0  \n",
       "3                   0                0            1  \n",
       "4                   0                0            1  \n",
       "\n",
       "[5 rows x 300 columns]"
      ]
     },
     "execution_count": 665,
     "metadata": {},
     "output_type": "execute_result"
    }
   ],
   "source": [
    "encoding = df.drop(columns=['Memory','Weight'])\n",
    "df_encoded = pd.get_dummies(encoding, drop_first=True)\n",
    "df_encoded.head()"
   ]
  },
  {
   "cell_type": "markdown",
   "id": "f1891ff4",
   "metadata": {},
   "source": [
    "# Split Data (Training-Testing)"
   ]
  },
  {
   "cell_type": "markdown",
   "id": "b13af5cb",
   "metadata": {},
   "source": [
    "The data splitting process divides the dataset into training and testing data. The training data (X) includes all variables except for 'Price_IDR', which is the target variable (Y). The dataset is then split into 80% for training and 20% for testing."
   ]
  },
  {
   "cell_type": "code",
   "execution_count": 666,
   "id": "ef08c2b7",
   "metadata": {},
   "outputs": [],
   "source": [
    "x = df_encoded.drop(columns=['Price_IDR'])\n",
    "y = df_encoded['Price_IDR']\n",
    "\n",
    "x_train, x_test, y_train, y_test = train_test_split(x, y, test_size=0.2, random_state=42)"
   ]
  },
  {
   "cell_type": "markdown",
   "id": "c17bac15",
   "metadata": {},
   "source": [
    "# Modeling"
   ]
  },
  {
   "cell_type": "markdown",
   "id": "86ee8032",
   "metadata": {},
   "source": [
    "The model used to predict laptop prices with the existing dataset is **CatBoostRegressor**. This model is highly effective for regression tasks, especially when dealing with categorical data. Additionally, CatBoostRegressor excels in delivering high performance with minimal need for hyperparameter tuning. Among several models tested, CatBoostRegressor produced the best results."
   ]
  },
  {
   "cell_type": "code",
   "execution_count": 667,
   "id": "9fa93bcd",
   "metadata": {},
   "outputs": [
    {
     "data": {
      "text/plain": [
       "<catboost.core.CatBoostRegressor at 0x1e3dbdc91c0>"
      ]
     },
     "execution_count": 667,
     "metadata": {},
     "output_type": "execute_result"
    }
   ],
   "source": [
    "#train the model\n",
    "model = CatBoostRegressor(n_estimators=100, random_state=0, silent=True)\n",
    "model.fit(x_train, y_train)"
   ]
  },
  {
   "cell_type": "code",
   "execution_count": 668,
   "id": "c475eba5",
   "metadata": {},
   "outputs": [],
   "source": [
    "y_pred = model.predict(x_test)"
   ]
  },
  {
   "cell_type": "markdown",
   "id": "5b266869",
   "metadata": {},
   "source": [
    "**Model Evaluation** — The purpose of model evaluation is to determine whether the model performs well or not. In this evaluation, two metrics are used: Mean Absolute Error (MAE) and R-Squared (R²). MAE is used to indicate the average difference between the predicted and actual prices, while R² is used to assess how well the model explains the variation in laptop prices."
   ]
  },
  {
   "cell_type": "code",
   "execution_count": 669,
   "id": "a31d9e2f",
   "metadata": {},
   "outputs": [
    {
     "name": "stdout",
     "output_type": "stream",
     "text": [
      "MAE : 2,216,176.67\n",
      "R^2 : 0.82\n"
     ]
    }
   ],
   "source": [
    "mae = mean_absolute_error(y_test, y_pred)\n",
    "r2 = r2_score(y_test, y_pred)\n",
    "\n",
    "print(\"MAE : {:,.2f}\".format(mae))\n",
    "print(\"R^2 : {:.2f}\".format(r2))"
   ]
  },
  {
   "cell_type": "markdown",
   "id": "22cf3ca0",
   "metadata": {},
   "source": [
    "# Prediction"
   ]
  },
  {
   "cell_type": "markdown",
   "id": "79f88ff1",
   "metadata": {},
   "source": [
    "The prediction process is the final step for displaying the laptop price based on the desired specification."
   ]
  },
  {
   "cell_type": "code",
   "execution_count": 670,
   "id": "b8c9b804",
   "metadata": {},
   "outputs": [
    {
     "name": "stdout",
     "output_type": "stream",
     "text": [
      "Predicted Price: IDR 19,355,754.58\n"
     ]
    }
   ],
   "source": [
    "#prediction for the given laptop specification\n",
    "new_laptop = pd.DataFrame({\n",
    "    'Company': ['Dell'],\n",
    "    'TypeName': ['Notebook'],\n",
    "    'Inches': [17.3],\n",
    "    'ScreenResolution': ['Full HD 1920x1080'],\n",
    "    'Cpu': ['Intel Core i7 8550U 1.8GHz'],\n",
    "    'Ram': [16],\n",
    "    'Memory_GB': [512.0],\n",
    "    'Gpu': ['AMD Radeon 530'],\n",
    "    'OpSys': ['Linux Mint']\n",
    "})\n",
    "\n",
    "#encoding is done for new data (new_laptop)\n",
    "new_laptop_encoded = pd.get_dummies(new_laptop, drop_first=True)\n",
    "#fit the new data variable (new_laptop) to the training data and fill in the missing values with 0\n",
    "new_laptop_encoded2 = new_laptop_encoded.reindex(columns=x.columns, fill_value=0)\n",
    "\n",
    "#enter data that has been encoded and adjusted to the training data (new laptop encoded 2) into the model \n",
    "predicted_price = model.predict(new_laptop_encoded2)\n",
    "\n",
    "print(f'Predicted Price: IDR {predicted_price[0]:,.2f}')"
   ]
  },
  {
   "cell_type": "code",
   "execution_count": null,
   "id": "789d7456",
   "metadata": {},
   "outputs": [],
   "source": []
  },
  {
   "cell_type": "code",
   "execution_count": null,
   "id": "857860d3",
   "metadata": {},
   "outputs": [],
   "source": []
  }
 ],
 "metadata": {
  "kernelspec": {
   "display_name": "Python 3 (ipykernel)",
   "language": "python",
   "name": "python3"
  },
  "language_info": {
   "codemirror_mode": {
    "name": "ipython",
    "version": 3
   },
   "file_extension": ".py",
   "mimetype": "text/x-python",
   "name": "python",
   "nbconvert_exporter": "python",
   "pygments_lexer": "ipython3",
   "version": "3.9.12"
  }
 },
 "nbformat": 4,
 "nbformat_minor": 5
}
